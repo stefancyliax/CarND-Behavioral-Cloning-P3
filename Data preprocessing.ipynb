{
 "cells": [
  {
   "cell_type": "code",
   "execution_count": 31,
   "metadata": {},
   "outputs": [],
   "source": [
    "# Import helper functions\n",
    "%run helper.py"
   ]
  },
  {
   "cell_type": "code",
   "execution_count": 32,
   "metadata": {},
   "outputs": [
    {
     "name": "stdout",
     "output_type": "stream",
     "text": [
      "Number of samples in input data: 2416\n",
      "Number of samples going straight: 920\n",
      "Number of random samples going straight that are kept ( 10.0 % ): 92\n",
      "Number of samples without samples going straight: 1496\n",
      "Without samples with large steering angles ( larger than +- 0.7 ): 1496\n",
      "Number of samples with rescued samples:  1588\n"
     ]
    }
   ],
   "source": [
    "from sklearn.model_selection import train_test_split\n",
    "driving_log = read_csv()\n",
    "driving_log = clean_data(driving_log)\n",
    "train_samples, validation_samples = train_test_split(driving_log, test_size=0.2)"
   ]
  },
  {
   "cell_type": "code",
   "execution_count": 41,
   "metadata": {},
   "outputs": [
    {
     "name": "stdout",
     "output_type": "stream",
     "text": [
      "-0.12228599999999999\n",
      "(1, 160, 320, 3)\n",
      "[ 215.  248.  222.  221.  230.  217.  251.  232.  234.  234.  235.  236.\n",
      "  238.  239.  240.  240.  244.  244.  246.  245.  247.  248.  250.  248.\n",
      "  250.  251.  252.  253.  255.  255.  255.  255.  253.  255.  245.  239.\n",
      "  255.  231.  242.  105.   93.   90.   58.   63.   57.   47.   84.   46.\n",
      "   49.   75.  129.  128.   75.   51.   54.   61.  161.  120.  111.   95.\n",
      "  120.  132.  190.  207.  191.  202.  193.  212.  186.  200.  201.  197.\n",
      "  202.  183.   51.   53.    0.    4.   10.  143.  192.  126.   82.   90.\n",
      "  106.  111.  114.  117.  111.  120.  117.  117.  108.  125.  163.  162.\n",
      "  159.  147.  164.  144.  129.  122.  176.  115.   93.   77.  104.  112.\n",
      "  151.   90.   94.  100.  132.  117.  142.  186.   92.  121.  145.  188.\n",
      "  131.  141.  107.  107.  121.  137.  226.  185.  127.   91.  138.  113.\n",
      "  114.  124.  155.  234.  151.  140.  155.  107.  160.  132.  119.  143.\n",
      "  125.  127.  140.  128.  134.  228.  137.  122.  103.  112.  136.  116.\n",
      "  143.  171.  154.  129.]\n",
      "(1,)\n",
      "[-0.122286]\n"
     ]
    }
   ],
   "source": [
    "from keras.preprocessing.image import img_to_array\n",
    "from skimage import transform, color\n",
    "\n",
    "\n",
    "image, steering_angle = load_image(train_samples.iloc[21])\n",
    "print(steering_angle)\n",
    "\n",
    "image= img_to_array(image)\n",
    "images = []\n",
    "steering_angles = []\n",
    "images.append(image)\n",
    "steering_angles.append(steering_angle)\n",
    "X_train = np.array(images)\n",
    "y_train = np.array(steering_angles)\n",
    "print(X_train.shape)\n",
    "print(X_train[0,:,12,2])\n",
    "print(y_train.shape)\n",
    "print(y_train)"
   ]
  },
  {
   "cell_type": "code",
   "execution_count": null,
   "metadata": {
    "scrolled": true
   },
   "outputs": [],
   "source": [
    "# demonstrator of how generator works\n",
    "import matplotlib.pyplot as plt\n",
    "driving_log = read_csv()\n",
    "\n",
    "for n in range(10):\n",
    "    index = np.random.randint(0, 200)\n",
    "    image, steering_angle = load_and_augment_image(driving_log.loc[index])\n",
    "   \n",
    "    plt.figure()\n",
    "\n",
    "    plt.xticks([]), plt.yticks([])\n",
    "    plt.imshow(image, cmap=\"gray\")\n",
    "    plt.title('Steer: ' + str(steering_angle))\n",
    "\n",
    "    plt.show()"
   ]
  },
  {
   "cell_type": "code",
   "execution_count": null,
   "metadata": {
    "collapsed": true
   },
   "outputs": [],
   "source": [
    "driving_log = read_csv()\n",
    "image, steering_angle = load_image(driving_log.loc[85], rand = 0.1)\n",
    "\n",
    "\n",
    "plt.figure(figsize=(17,9))\n",
    "\n",
    "for n in range(32):\n",
    "    index = np.random.randint(0, 200)\n",
    "    image, steering_angle = load_image(driving_log.loc[index], np.random.random())\n",
    "    plt.subplot(4,8,n+1)\n",
    "    plt.xticks([]), plt.yticks([])\n",
    "    plt.imshow(image, cmap=\"gray\")\n",
    "    plt.title('Steer: ' + str(steering_angle))\n",
    "    \n",
    "plt.show()\n",
    "\n",
    "#print(driving_log.loc[27])\n"
   ]
  },
  {
   "cell_type": "markdown",
   "metadata": {},
   "source": [
    "# All below is testing stuff"
   ]
  },
  {
   "cell_type": "code",
   "execution_count": null,
   "metadata": {
    "scrolled": false
   },
   "outputs": [],
   "source": [
    "print(np.random.randint(3, size=5))"
   ]
  },
  {
   "cell_type": "code",
   "execution_count": null,
   "metadata": {},
   "outputs": [],
   "source": [
    "driving_log = read_csv_pd()\n",
    "print_histogram(driving_log['Steering Angle'].values)\n",
    "driving_log = clean_data(driving_log, upper_angle=0.5, zero_frac=0.1)\n",
    "print_histogram(driving_log['Steering Angle'].values)"
   ]
  },
  {
   "cell_type": "code",
   "execution_count": null,
   "metadata": {
    "collapsed": true,
    "scrolled": true
   },
   "outputs": [],
   "source": [
    "csv_data = read_csv()\n",
    "train_samples, validation_samples = train_test_split(csv_data, test_size=0.2)\n",
    "\n",
    "y_train = np.array(csv_data[3])\n",
    "#X_train, y_train = import_pictures(csv_data)\n",
    "#X_train, y_train = augment_pictures(X_train, y_train)"
   ]
  },
  {
   "cell_type": "code",
   "execution_count": null,
   "metadata": {},
   "outputs": [],
   "source": [
    "# Keras data augmentation gen\n",
    "datagen = ImageDataGenerator(\n",
    "        rotation_range=10,\n",
    "        width_shift_range=0.2,\n",
    "        height_shift_range=0.2,\n",
    "        shear_range=0.2,\n",
    "        zoom_range=0.2,\n",
    "        horizontal_flip=True,\n",
    "        fill_mode='nearest')\n",
    "\n",
    "img = load_img('../SDCND_output/IMG/center_2017_07_18_12_37_19_118.jpg')  # this is a PIL image\n",
    "x = img_to_array(img)  # this is a Numpy array with shape (3, 150, 150)\n",
    "x = x.reshape((1,) + x.shape)  # this is a Numpy array with shape (1, 3, 150, 150)\n",
    "\n",
    "# the .flow() command below generates batches of randomly transformed images\n",
    "# and saves the results to the `preview/` directory\n",
    "i = 0\n",
    "for batch in datagen.flow(X_train, batch_size=32,\n",
    "                          save_to_dir='preview', save_prefix='cat', save_format='jpeg'):\n",
    "    i += 1\n",
    "    if i > 1:\n",
    "        break  # otherwise the generator would loop indefinitely"
   ]
  },
  {
   "cell_type": "code",
   "execution_count": null,
   "metadata": {
    "collapsed": true
   },
   "outputs": [],
   "source": [
    "def import_pictures(csv_data, steering_correction=0.25):\n",
    "    images = []\n",
    "    steering_angle = []\n",
    "    for line in csv_data:\n",
    "        # Center image\n",
    "        image_path = '../SDCND_output/IMG/' + line[0].split('\\\\')[-1]\n",
    "        images.append(img_to_array(load_img(image_path)))\n",
    "        steering_angle.append(float(line[3]))\n",
    "        # Left image\n",
    "        #image_path = '../SDCND_output/IMG/' + line[1].split('\\\\')[-1]\n",
    "        #images.append(load_img(image_path))\n",
    "        #steering_angle.append(float(line[3]) + steering_correction)\n",
    "        # Right image\n",
    "        #image_path = '../SDCND_output/IMG/' + line[2].split('\\\\')[-1]\n",
    "        #images.append(load_img(image_path))\n",
    "        #steering_angle.append(float(line[3]) - steering_correction)\n",
    "\n",
    "    X_train = np.array(images)\n",
    "    y_train = np.array(steering_angle)\n",
    "    print('After import shape X_train: ', X_train.shape, ',  Shape y_train: ', y_train.shape)\n",
    "\n",
    "    return X_train, y_train"
   ]
  }
 ],
 "metadata": {
  "kernelspec": {
   "display_name": "Python 3",
   "language": "python",
   "name": "python3"
  },
  "language_info": {
   "codemirror_mode": {
    "name": "ipython",
    "version": 3
   },
   "file_extension": ".py",
   "mimetype": "text/x-python",
   "name": "python",
   "nbconvert_exporter": "python",
   "pygments_lexer": "ipython3",
   "version": "3.5.2"
  },
  "widgets": {
   "state": {},
   "version": "1.1.2"
  }
 },
 "nbformat": 4,
 "nbformat_minor": 2
}
